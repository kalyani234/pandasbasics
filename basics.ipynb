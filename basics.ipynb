{
 "cells": [
  {
   "cell_type": "code",
   "execution_count": 1,
   "metadata": {},
   "outputs": [],
   "source": [
    "import pandas as pd"
   ]
  },
  {
   "cell_type": "code",
   "execution_count": 2,
   "metadata": {},
   "outputs": [
    {
     "name": "stdout",
     "output_type": "stream",
     "text": [
      "2.0.3\n"
     ]
    }
   ],
   "source": [
    "print(pd.__version__)"
   ]
  },
  {
   "cell_type": "code",
   "execution_count": 4,
   "metadata": {},
   "outputs": [
    {
     "name": "stdout",
     "output_type": "stream",
     "text": [
      "0    1\n",
      "1    2\n",
      "2    3\n",
      "dtype: int64\n",
      "0    hello\n",
      "1      cat\n",
      "dtype: object\n"
     ]
    }
   ],
   "source": [
    "#series - one dimensional array of any type\n",
    "import pandas as pd\n",
    "a=[1,2,3]\n",
    "myVar = pd.Series(a)\n",
    "print(myVar)\n",
    "d=['hello','cat']\n",
    "myVar1 = pd.Series(d)\n",
    "print(myVar1)"
   ]
  },
  {
   "cell_type": "code",
   "execution_count": 5,
   "metadata": {},
   "outputs": [
    {
     "data": {
      "text/plain": [
       "'cat'"
      ]
     },
     "execution_count": 5,
     "metadata": {},
     "output_type": "execute_result"
    }
   ],
   "source": [
    "#Labels - default index value as number from 0\n",
    "myVar1[1]"
   ]
  },
  {
   "cell_type": "code",
   "execution_count": 6,
   "metadata": {},
   "outputs": [
    {
     "name": "stdout",
     "output_type": "stream",
     "text": [
      "r1    1\n",
      "r2    5\n",
      "r3    8\n",
      "dtype: int64\n"
     ]
    }
   ],
   "source": [
    "#create Labels\n",
    "a=[1,5,8]\n",
    "myvarLabel = pd.Series(a,index=['r1','r2','r3'])\n",
    "print(myvarLabel)"
   ]
  },
  {
   "cell_type": "code",
   "execution_count": 7,
   "metadata": {},
   "outputs": [
    {
     "name": "stdout",
     "output_type": "stream",
     "text": [
      "1\n"
     ]
    }
   ],
   "source": [
    "#Referring Label\n",
    "print(myvarLabel[\"r1\"])"
   ]
  },
  {
   "cell_type": "code",
   "execution_count": 2,
   "metadata": {},
   "outputs": [
    {
     "name": "stdout",
     "output_type": "stream",
     "text": [
      "student_name      Mary\n",
      "student_id          10\n",
      "student_marks    630.5\n",
      "dtype: object\n"
     ]
    }
   ],
   "source": [
    "#key value object - series from dictionary\n",
    "import pandas as pd\n",
    "student = {\"student_name\":\"Mary\",\"student_id\":10,\"student_marks\":630.5}\n",
    "myDic = pd.Series(student)\n",
    "print(myDic) #keys becomes label"
   ]
  },
  {
   "cell_type": "code",
   "execution_count": 4,
   "metadata": {},
   "outputs": [
    {
     "name": "stdout",
     "output_type": "stream",
     "text": [
      "Mary\n",
      "student_id          10\n",
      "student_marks    630.5\n",
      "dtype: object\n"
     ]
    }
   ],
   "source": [
    "print(myDic[\"student_name\"])\n",
    "# Series using only data from index\n",
    "myDic1 = pd.Series(student,index=[\"student_id\",\"student_marks\"]) \n",
    "print(myDic1)"
   ]
  },
  {
   "cell_type": "code",
   "execution_count": 6,
   "metadata": {},
   "outputs": [
    {
     "name": "stdout",
     "output_type": "stream",
     "text": [
      "  dept1  dept2\n",
      "0  Jack  Julie\n",
      "1    IT     HR\n",
      "2    12     22\n"
     ]
    }
   ],
   "source": [
    "#dataframe - multidimensional tables\n",
    "import pandas as pd\n",
    "emp = {\n",
    "    \"dept1\" : ['Jack','IT',12],\n",
    "    \"dept2\" :['Julie','HR',22]\n",
    "}\n",
    "mydata = pd.DataFrame(emp)\n",
    "print(mydata)"
   ]
  },
  {
   "cell_type": "code",
   "execution_count": 11,
   "metadata": {},
   "outputs": [
    {
     "name": "stdout",
     "output_type": "stream",
     "text": [
      "dept1     Jack\n",
      "dept2    Julie\n",
      "Name: 0, dtype: object\n",
      "dept1    IT\n",
      "dept2    HR\n",
      "Name: 1, dtype: object\n",
      "0    Jack\n",
      "1      IT\n",
      "2      12\n",
      "Name: dept1, dtype: object\n"
     ]
    }
   ],
   "source": [
    "#locate row - pandas use loc to define row\n",
    "print(mydata.loc[0])\n",
    "print(mydata.loc[1])\n",
    "print(mydata['dept1'])"
   ]
  },
  {
   "cell_type": "code",
   "execution_count": 13,
   "metadata": {},
   "outputs": [
    {
     "name": "stdout",
     "output_type": "stream",
     "text": [
      "  dept1  dept2\n",
      "0  Jack  Julie\n",
      "1    IT     HR\n"
     ]
    }
   ],
   "source": [
    "print(mydata.loc[[0,1]])\n",
    "#When using [], the result is a Pandas DataFrame."
   ]
  },
  {
   "cell_type": "code",
   "execution_count": 14,
   "metadata": {},
   "outputs": [
    {
     "name": "stdout",
     "output_type": "stream",
     "text": [
      "      calories  duration\n",
      "day1       420        50\n",
      "day2       380        40\n",
      "day3       390        45\n"
     ]
    }
   ],
   "source": [
    "import pandas as pd\n",
    "\n",
    "data = {\n",
    "  \"calories\": [420, 380, 390],\n",
    "  \"duration\": [50, 40, 45]\n",
    "}\n",
    "\n",
    "df = pd.DataFrame(data, index = [\"day1\", \"day2\", \"day3\"])\n",
    "\n",
    "print(df)"
   ]
  },
  {
   "cell_type": "code",
   "execution_count": 15,
   "metadata": {},
   "outputs": [
    {
     "name": "stdout",
     "output_type": "stream",
     "text": [
      "calories    380\n",
      "duration     40\n",
      "Name: day2, dtype: int64\n"
     ]
    }
   ],
   "source": [
    "#locate named reference\n",
    "print(df.loc[\"day2\"])"
   ]
  }
 ],
 "metadata": {
  "kernelspec": {
   "display_name": "base",
   "language": "python",
   "name": "python3"
  },
  "language_info": {
   "codemirror_mode": {
    "name": "ipython",
    "version": 3
   },
   "file_extension": ".py",
   "mimetype": "text/x-python",
   "name": "python",
   "nbconvert_exporter": "python",
   "pygments_lexer": "ipython3",
   "version": "3.11.5"
  }
 },
 "nbformat": 4,
 "nbformat_minor": 2
}
